{
 "cells": [
  {
   "cell_type": "markdown",
   "metadata": {
    "id": "doA2V9n6xt5J"
   },
   "source": [
    "`SOW-BKI230A-2022-SEM2-V Deep Learning Assignment 5 Convolutional Neural Networks; Generative Adversarial Networks`"
   ]
  },
  {
   "cell_type": "markdown",
   "metadata": {
    "id": "5nvONX69xxST"
   },
   "source": [
    "**Name**:\n",
    "\n",
    "Replace this line with your name.\n",
    "\n",
    "**S-number**:\n",
    "\n",
    "Replace this line with your s-number."
   ]
  },
  {
   "cell_type": "markdown",
   "metadata": {
    "id": "s7yvz5J7xyDf"
   },
   "source": [
    "### Generating gameboy characters with generative adversarial networks\n",
    "\n",
    "In this assignment, you will study, complete and customise the accompanying partial implementation of a generative adversarial network by following the step-by-step instructions in the comments. Your goal is to train your generative adversarial network on the accompanying 0x72.itch.io-scraped dataset of 185472 16 × 16 pixel 2-bit gameboy-character-like images to generate the coolest characters that you can. Here is a sample of the dataset:\n",
    "\n",
    "![](https://umuguc.github.io/file-sharing/gbc_dataset_5.gif)\n",
    "\n",
    "You should document your experiments at the end of this notebook and submit it together with a sample of your characters.\n",
    "\n",
    "NB: Once again, there will be a surprise prize for the student whose characters the class likes the most."
   ]
  },
  {
   "cell_type": "code",
   "execution_count": 1,
   "metadata": {
    "id": "gunIapS_z7tZ",
    "tags": []
   },
   "outputs": [],
   "source": [
    "import random\n",
    "import math\n",
    "from typing import Tuple\n",
    "\n",
    "import numpy as np\n",
    "import torch\n",
    "import torch.nn as nn\n",
    "import torch.optim as optim\n",
    "from PIL import Image\n",
    "from torch.utils.data import Dataset, DataLoader, Subset\n",
    "\n",
    "from ray import tune\n",
    "from ray.tune import CLIReporter\n",
    "from ray.tune.schedulers import ASHAScheduler"
   ]
  },
  {
   "cell_type": "code",
   "execution_count": 2,
   "metadata": {
    "tags": []
   },
   "outputs": [],
   "source": [
    "random.seed(42)\n",
    "np.random.seed(42)\n",
    "torch.manual_seed(42)\n",
    "\n",
    "if torch.cuda.is_available():\n",
    "    torch.cuda.manual_seed_all(42)"
   ]
  },
  {
   "cell_type": "code",
   "execution_count": 3,
   "metadata": {
    "tags": []
   },
   "outputs": [
    {
     "data": {
      "text/plain": [
       "device(type='cuda')"
      ]
     },
     "execution_count": 3,
     "metadata": {},
     "output_type": "execute_result"
    }
   ],
   "source": [
    "device = torch.device(\"cuda\" if torch.cuda.is_available() else \"cpu\")\n",
    "device"
   ]
  },
  {
   "cell_type": "code",
   "execution_count": 4,
   "metadata": {
    "tags": []
   },
   "outputs": [
    {
     "name": "stdout",
     "output_type": "stream",
     "text": [
      "File ‘gbc_dataset.npy.zip’ already there; not retrieving.\n",
      "\n",
      "Archive:  gbc_dataset.npy.zip\n"
     ]
    }
   ],
   "source": [
    "!wget -nc https://umuguc.github.io/file-sharing/gbc_dataset.npy.zip\n",
    "!unzip -n gbc_dataset.npy.zip -d assignment_5"
   ]
  },
  {
   "cell_type": "code",
   "execution_count": 5,
   "metadata": {
    "id": "uMQHEZqVy67L",
    "tags": []
   },
   "outputs": [],
   "source": [
    "class GBCDataset(Dataset):\n",
    "    \"\"\"Implement gameboy character dataset (GBCDataset) class.\"\"\"\n",
    "    def __init__(self, data, device):\n",
    "        self.dat = data\n",
    "        self.dev = device\n",
    "\n",
    "    def __len__(self):\n",
    "        return self.dat.shape[0]\n",
    "\n",
    "    def __getitem__(self, index):\n",
    "        return torch.from_numpy(self.dat[index].astype(np.float32) / 127.5 - 1.0).to(self.dev)"
   ]
  },
  {
   "cell_type": "code",
   "execution_count": 6,
   "metadata": {
    "tags": []
   },
   "outputs": [
    {
     "data": {
      "text/plain": [
       "array([  0, 120, 232, 255], dtype=uint8)"
      ]
     },
     "execution_count": 6,
     "metadata": {},
     "output_type": "execute_result"
    }
   ],
   "source": [
    "data_list = np.load(\"assignment_5/gbc_dataset.npy\")\n",
    "\n",
    "# select how much data you want to use\n",
    "data_percentage = 1.0\n",
    "desired_size = int(len(data_list) * data_percentage)\n",
    "\n",
    "# throw away half of every image, since they are symmetrical\n",
    "data_list = data_list[:desired_size]\n",
    "data_list = np.array([[img[0][:, :img.shape[1] // 2]] for img in data_list])\n",
    "\n",
    "# put the data into a data loader\n",
    "data_set = GBCDataset(data_list, device)\n",
    "data_loader = DataLoader(data_set, batch_size=32, shuffle=True)\n",
    "\n",
    "# save the (four) different color pigments\n",
    "colors = np.unique(data_list[0][0])\n",
    "colors"
   ]
  },
  {
   "cell_type": "code",
   "execution_count": 7,
   "metadata": {
    "id": "8q8IXr2lxshr",
    "tags": []
   },
   "outputs": [],
   "source": [
    "class GBCGAN:\n",
    "    \"\"\"\n",
    "    Implement gameboy character generative adversarial network (GBCGAN) class.\n",
    "\n",
    "    Attributes:\n",
    "        _dis_net (nn.Sequential): Discriminator network.\n",
    "        _dis_opt (optim.Optimizer): Discriminator optimiser.\n",
    "        _gen_net (nn.Sequential): Generator network.\n",
    "        _gen_opt (optim.Optimizer): Generator optimiser.\n",
    "        _lat_dim (int): Latent dimensionality.\n",
    "    \"\"\"\n",
    "\n",
    "    def __init__(self, device: str = \"cuda\") -> None:\n",
    "        self.dev = device\n",
    "        self._dis_net, self._dis_opt = self._get_discriminator()\n",
    "        self._gen_net, self._gen_opt = self._get_generator()\n",
    "        self._lat_dim = self._gen_net[0].in_channels\n",
    "\n",
    "    def _get_discriminator(self) -> Tuple[nn.Sequential, optim.Optimizer]:\n",
    "        \"\"\"Get discriminator network and discriminator optimiser.\"\"\"\n",
    "\n",
    "        # inputs  are [batch size] × 1 × 16 × 8 fake or real images and\n",
    "        # outputs are [batch size] × 1 ×  1 × 1 fake or real probabilities.\n",
    "\n",
    "        network = nn.Sequential(\n",
    "            nn.Conv2d(in_channels=1, out_channels=32, kernel_size=(4, 2), stride=1, padding=1, bias=False),\n",
    "            nn.BatchNorm2d(num_features=32),\n",
    "            nn.LeakyReLU(negative_slope=0.2),\n",
    "            nn.Conv2d(in_channels=32, out_channels=32, kernel_size=3, stride=2, padding=1, bias=False),\n",
    "            nn.BatchNorm2d(num_features=32),\n",
    "            nn.LeakyReLU(negative_slope=0.2),\n",
    "            nn.Conv2d(in_channels=32, out_channels=1, kernel_size=3, stride=2, padding=0, bias=False),\n",
    "            nn.Sigmoid()\n",
    "        ).to(self.dev)\n",
    "\n",
    "        optimiser = optim.Adam(network.parameters(), lr=0.0002, betas=(0.5, 0.999))\n",
    "        return network, optimiser\n",
    "\n",
    "    def _get_generator(self) -> Tuple[nn.Sequential, optim.Optimizer]:\n",
    "        \"\"\"Get generator network and generator optimiser.\"\"\"\n",
    "        \n",
    "        # inputs  are [batch size] × [latent dimensionality] ×  1 × 1 random latents and\n",
    "        # outputs are [batch size] ×                       1 × 16 × 8 fake images.\n",
    "\n",
    "        network = nn.Sequential(\n",
    "            nn.ConvTranspose2d(in_channels=64, out_channels=32, kernel_size=(4, 2), stride=1, padding=0, bias=False),\n",
    "            nn.BatchNorm2d(num_features=32),\n",
    "            nn.ReLU(),\n",
    "            nn.ConvTranspose2d(in_channels=32, out_channels=16, kernel_size=4, stride=2, padding=1, bias=False),\n",
    "            nn.BatchNorm2d(num_features=16),\n",
    "            nn.ReLU(),\n",
    "            nn.ConvTranspose2d(in_channels=16, out_channels=1, kernel_size=4, stride=2, padding=1, bias=False),\n",
    "            nn.Tanh()\n",
    "        ).to(self.dev)\n",
    "\n",
    "        optimiser = optim.Adam(network.parameters(), lr=0.0002, betas=(0.5, 0.999))\n",
    "        return network, optimiser\n",
    "\n",
    "    def generate_images(self, batch_size):\n",
    "        \"\"\"Create a canvas with batch_size * batch_size generated images.\"\"\"\n",
    "        \n",
    "        # generate fake images\n",
    "        random_latents = torch.randn(batch_size * batch_size, self._lat_dim, 1, 1, device=self.dev)\n",
    "        temp_images = self._gen_net(random_latents)\n",
    "        \n",
    "        # create a canvas for the fake images\n",
    "        padding = 2\n",
    "        canvas_size = 16 * batch_size + padding * (batch_size + 1)\n",
    "        canvas = Image.new(\"L\", (canvas_size, canvas_size), color='white')\n",
    "\n",
    "        for y in range(batch_size):\n",
    "            for x in range(batch_size):\n",
    "                # create the full image by mirroring\n",
    "                image = 127.5 * (temp_images[y * batch_size + x][0].cpu().detach().numpy() + 1.0)  # left half\n",
    "                image = np.concatenate((image, np.flip(image, axis=1)), axis=1)   # left half plus mirrored\n",
    "\n",
    "                # convert all the colors to one of the original colors\n",
    "                image = np.vectorize(lambda value: min(colors, key=lambda x: abs(x - value)))(image)\n",
    "                image = image.astype(np.uint8)\n",
    "\n",
    "                # put all the image on the canvas\n",
    "                position = ((16 + padding) * y + padding, (16 + padding) * x + padding)\n",
    "                canvas.paste(Image.fromarray(image), position)\n",
    "\n",
    "        # upscale the image\n",
    "        scale = 6\n",
    "        newsize = (canvas.size[0] * scale, canvas.size[1] * scale)\n",
    "        return canvas.resize(newsize, resample=Image.Resampling.BOX)\n",
    "\n",
    "    def train_networks(self, data_loader: DataLoader, epoch_number: int=1) -> None:\n",
    "        \"\"\"\n",
    "        Train discriminator network and generator network.\n",
    "\n",
    "        Args:\n",
    "            data_loader (DataLoader): GBC data loader.\n",
    "            epoch_number (int): Epochs number.\n",
    "        \"\"\"\n",
    "        self._dis_net.train()\n",
    "        self._gen_net.train()\n",
    "\n",
    "        for epoch in range(epoch_number):\n",
    "            discriminator_losses = []\n",
    "            generator_losses = []\n",
    "\n",
    "            for real_images in data_loader:\n",
    "                \n",
    "                # DISCRIMINATOR TRAINING\n",
    "                \n",
    "                # generate fake images\n",
    "                random_latents = torch.randn(data_loader.batch_size, self._lat_dim, 1, 1, device=self.dev)\n",
    "                fake_images = self._gen_net(random_latents)\n",
    "                \n",
    "                # discriminate the real and fake images\n",
    "                fake_probs = self._dis_net(fake_images).flatten()\n",
    "                real_probs = self._dis_net(real_images).flatten()\n",
    "                    \n",
    "                # compute the loss\n",
    "                predictions = torch.cat((fake_probs, real_probs))\n",
    "                labels = torch.cat((torch.zeros_like(fake_probs), torch.ones_like(real_probs)))\n",
    "\n",
    "                # compute the loss\n",
    "                criterion = nn.MSELoss()\n",
    "                discriminator_loss = criterion(predictions, labels)\n",
    "                \n",
    "                # backpropagate\n",
    "                self._dis_opt.zero_grad()\n",
    "                discriminator_loss.backward()\n",
    "                self._dis_opt.step()\n",
    "\n",
    "                discriminator_losses.append(discriminator_loss.item())\n",
    "\n",
    "                # GENERATOR TRAINING\n",
    "\n",
    "                # generate fake images\n",
    "                random_latents = torch.randn(data_loader.batch_size, self._lat_dim, 1, 1, device=self.dev)\n",
    "                fake_images = self._gen_net(random_latents)\n",
    "                \n",
    "                # discriminate the fake images\n",
    "                fake_probs = self._dis_net(fake_images).flatten()\n",
    "                \n",
    "                # compute the loss\n",
    "                criterion = nn.MSELoss()\n",
    "                generator_loss = criterion(fake_probs, torch.ones_like(fake_probs))\n",
    "                \n",
    "                # backpropagate\n",
    "                self._gen_opt.zero_grad()\n",
    "                generator_loss.backward()\n",
    "                self._gen_opt.step()\n",
    "\n",
    "                generator_losses.append(generator_loss.item())\n",
    "\n",
    "            print(f\"Epoch: [{epoch + 1}/{epoch_number}]\")\n",
    "            print(f\"Discriminator loss: {np.mean(discriminator_losses):.9f}\")\n",
    "            print(f\"Generator loss: {np.mean(generator_losses):.9f}\")\n",
    "\n",
    "        self._dis_net.eval()\n",
    "        self._gen_net.eval()"
   ]
  },
  {
   "cell_type": "markdown",
   "metadata": {
    "id": "SNeucmCE0C8i"
   },
   "source": [
    "You can use the following code cells to train your networks and generate your images:"
   ]
  },
  {
   "cell_type": "code",
   "execution_count": 17,
   "metadata": {
    "id": "CAsk1kyyiXYA",
    "tags": []
   },
   "outputs": [
    {
     "name": "stdout",
     "output_type": "stream",
     "text": [
      "Epoch: [1/10]\n",
      "Discriminator loss: 0.043091108\n",
      "Generator loss: 0.737351374\n",
      "Epoch: [2/10]\n",
      "Discriminator loss: 0.011961871\n",
      "Generator loss: 0.891574914\n",
      "Epoch: [3/10]\n",
      "Discriminator loss: 0.007460666\n",
      "Generator loss: 0.928229370\n",
      "Epoch: [4/10]\n",
      "Discriminator loss: 0.005815849\n",
      "Generator loss: 0.945013217\n",
      "Epoch: [5/10]\n",
      "Discriminator loss: 0.004565849\n",
      "Generator loss: 0.956455509\n",
      "Epoch: [6/10]\n",
      "Discriminator loss: 0.004258073\n",
      "Generator loss: 0.960626093\n",
      "Epoch: [7/10]\n",
      "Discriminator loss: 0.004078145\n",
      "Generator loss: 0.962733649\n",
      "Epoch: [8/10]\n",
      "Discriminator loss: 0.004344593\n",
      "Generator loss: 0.962118753\n",
      "Epoch: [9/10]\n",
      "Discriminator loss: 0.004022767\n",
      "Generator loss: 0.965779887\n",
      "Epoch: [10/10]\n",
      "Discriminator loss: 0.004751192\n",
      "Generator loss: 0.961152068\n",
      "CPU times: user 4min 11s, sys: 2 s, total: 4min 13s\n",
      "Wall time: 4min 19s\n"
     ]
    }
   ],
   "source": [
    "%%time\n",
    "\n",
    "gbcgan = GBCGAN(device)\n",
    "gbcgan.train_networks(data_loader, epoch_number=10)"
   ]
  },
  {
   "cell_type": "code",
   "execution_count": 19,
   "metadata": {
    "id": "R4Pk2keM1-kr",
    "tags": []
   },
   "outputs": [],
   "source": [
    "fake_images = gbcgan.generate_images(20)\n",
    "\n",
    "fake_images.show()\n",
    "fake_images.save(\"fake_images.png\")"
   ]
  },
  {
   "attachments": {},
   "cell_type": "markdown",
   "metadata": {
    "id": "JwjfbW8aOk3u",
    "tags": []
   },
   "source": [
    "Bonus question:\n",
    "\n",
    "Considering the characteristics of the dataset, can you think of a way to make the generative adversarial network approximately twice as fast?\n",
    "\n",
    "WRITE YOUR ANSWER BELOW:\n",
    "\n",
    "All of the images are symmetrical of the y-axis, so instead of learning the whole image, we can just learn half of it and then mirror to get a full image. This way we only need to train on half of the original data!"
   ]
  },
  {
   "attachments": {
    "96bd6c7e-14a7-4d45-8dac-1165ac2a2cc7.png": {
     "image/png": "[encoded data removed]"
    }
   },
   "cell_type": "markdown",
   "metadata": {},
   "source": [
    "![fake_images.png](attachment:96bd6c7e-14a7-4d45-8dac-1165ac2a2cc7.png)"
   ]
  }
 ],
 "metadata": {
  "colab": {
   "provenance": []
  },
  "kernelspec": {
   "display_name": "Python 3 (ipykernel)",
   "language": "python",
   "name": "python3"
  },
  "language_info": {
   "codemirror_mode": {
    "name": "ipython",
    "version": 3
   },
   "file_extension": ".py",
   "mimetype": "text/x-python",
   "name": "python",
   "nbconvert_exporter": "python",
   "pygments_lexer": "ipython3",
   "version": "3.10.7"
  }
 },
 "nbformat": 4,
 "nbformat_minor": 4
}
